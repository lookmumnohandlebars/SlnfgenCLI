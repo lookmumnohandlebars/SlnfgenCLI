{
 "cells": [
  {
   "cell_type": "code",
   "execution_count": null,
   "id": "320fc7c4",
   "metadata": {},
   "outputs": [],
   "source": [
    "#r \"nuget: ./artifacts/Slnfgen.0.0.1.nupkg\" // MAYBE? OR dotnet tool install --add-source ./artifacts/ slnfgen"
   ]
  }
 ],
 "metadata": {
  "kernelspec": {
   "display_name": ".NET (C#)",
   "language": "C#",
   "name": ".net-csharp"
  },
  "language_info": {
   "name": "polyglot-notebook"
  },
  "polyglot_notebook": {
   "kernelInfo": {
    "defaultKernelName": "csharp",
    "items": [
     {
      "aliases": [],
      "name": "csharp"
     }
    ]
   }
  }
 },
 "nbformat": 4,
 "nbformat_minor": 5
}
